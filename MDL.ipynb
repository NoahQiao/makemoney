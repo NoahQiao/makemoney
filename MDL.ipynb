{
 "cells": [
  {
   "cell_type": "code",
   "execution_count": null,
   "id": "cfd80d69",
   "metadata": {},
   "outputs": [],
   "source": [
    "\"\"\"\n",
    "矛盾论量化策略 - A股版本\n",
    "使用baostock数据源，适用于中国A股市场\n",
    "\"\"\""
   ]
  },
  {
   "cell_type": "code",
   "execution_count": null,
   "id": "78e5d9e8",
   "metadata": {},
   "outputs": [],
   "source": [
    "import numpy as np\n",
    "import pandas as pd\n",
    "import backtrader as bt\n",
    "import backtrader.indicators as btind\n",
    "import baostock as bs\n",
    "from datetime import datetime, timedelta\n",
    "import warnings\n",
    "warnings.filterwarnings('ignore')"
   ]
  },
  {
   "cell_type": "code",
   "execution_count": null,
   "id": "799d1c73",
   "metadata": {},
   "outputs": [],
   "source": [
    "class MarketRegimeIndicator(bt.Indicator):\n",
    "    \"\"\"\n",
    "    市场状态识别指标\n",
    "    \"\"\"\n",
    "    lines = ('regime',)\n",
    "    params = (\n",
    "        ('adx_threshold', 25),\n",
    "    )\n",
    "    \n",
    "    def __init__(self):\n",
    "        self.adx = self.data0\n",
    "        self.volatility = self.data1\n",
    "        \n",
    "    def next(self):\n",
    "        if len(self) < 2:\n",
    "            self.lines.regime[0] = 0\n",
    "            return\n",
    "            \n",
    "        # ADX上升且高于阈值 = 趋势市\n",
    "        if self.adx[0] > self.params.adx_threshold and self.adx[0] > self.adx[-1]:\n",
    "            self.lines.regime[0] = 1\n",
    "        # ADX下降且低于阈值 = 震荡市\n",
    "        elif self.adx[0] < self.params.adx_threshold and self.adx[0] < self.adx[-1]:\n",
    "            self.lines.regime[0] = 0\n",
    "        # 过渡期（矛盾转化中）\n",
    "        else:\n",
    "            self.lines.regime[0] = -1"
   ]
  }
 ],
 "metadata": {
  "language_info": {
   "name": "python"
  }
 },
 "nbformat": 4,
 "nbformat_minor": 5
}
