{
 "cells": [
  {
   "cell_type": "code",
   "execution_count": 2,
   "id": "264d7f69",
   "metadata": {},
   "outputs": [],
   "source": [
    "import baostock as bs\n",
    "import pandas as pd\n",
    "from datetime import datetime"
   ]
  },
  {
   "cell_type": "code",
   "execution_count": 3,
   "id": "98166dfd",
   "metadata": {},
   "outputs": [
    {
     "name": "stdout",
     "output_type": "stream",
     "text": [
      "login success!\n",
      "login success!\n",
      "login respond error_code:0\n",
      "login respond  error_msg:success\n"
     ]
    }
   ],
   "source": [
    "# 登录系统\n",
    "lg = bs.login()\n",
    "print('login success!')\n",
    "print('login respond error_code:'+lg.error_code)\n",
    "print('login respond  error_msg:'+lg.error_msg)"
   ]
  },
  {
   "cell_type": "code",
   "execution_count": 4,
   "id": "cdb279fb",
   "metadata": {},
   "outputs": [],
   "source": [
    "stock_code = \"sh.600150\"  # 要查询的股票代码"
   ]
  },
  {
   "cell_type": "code",
   "execution_count": 5,
   "id": "a903353f",
   "metadata": {},
   "outputs": [
    {
     "name": "stdout",
     "output_type": "stream",
     "text": [
      "正在下载 sh.600150 从 2024-01-01 到 2025-08-09 的数据...\n"
     ]
    }
   ],
   "source": [
    "# 获取最近的数据\n",
    "end_date = datetime.now().strftime('%Y-%m-%d')\n",
    "start_date = '2024-01-01'  # 获取最近2-3年的数据\n",
    "\n",
    "print(f\"正在下载 {stock_code} 从 {start_date} 到 {end_date} 的数据...\")"
   ]
  },
  {
   "cell_type": "code",
   "execution_count": 6,
   "id": "3ce64d3f",
   "metadata": {},
   "outputs": [
    {
     "name": "stdout",
     "output_type": "stream",
     "text": [
      "query_history_k_data_plus respond error_code:0\n",
      "query_history_k_data_plus respond  error_msg:success\n"
     ]
    }
   ],
   "source": [
    "# 查询日K线数据\n",
    "rs = bs.query_history_k_data_plus(stock_code,\n",
    "    \"date,code,open,high,low,close,preclose,volume,amount,adjustflag,turn,tradestatus,pctChg,isST\",\n",
    "    start_date=start_date, \n",
    "    end_date=end_date,\n",
    "    frequency=\"d\", adjustflag=\"3\")\n",
    "\n",
    "print('query_history_k_data_plus respond error_code:'+rs.error_code)\n",
    "print('query_history_k_data_plus respond  error_msg:'+rs.error_msg)"
   ]
  },
  {
   "cell_type": "code",
   "execution_count": 7,
   "id": "83b4fb50",
   "metadata": {},
   "outputs": [
    {
     "name": "stdout",
     "output_type": "stream",
     "text": [
      "\n",
      "原始数据行数: 388\n",
      "\n",
      "查看前5行原始数据:\n",
      "         date       code     open     high      low    close preclose  \\\n",
      "0  2024-01-02  sh.600150  29.6300  30.5000  29.4300  29.8000  29.4400   \n",
      "1  2024-01-03  sh.600150  29.6200  30.3000  29.6200  30.2500  29.8000   \n",
      "2  2024-01-04  sh.600150  30.1300  30.2400  29.3900  29.8000  30.2500   \n",
      "3  2024-01-05  sh.600150  29.6600  30.0900  29.2900  29.5200  29.8000   \n",
      "4  2024-01-08  sh.600150  29.7600  29.8500  29.3100  29.4500  29.5200   \n",
      "\n",
      "     volume           amount adjustflag      turn tradestatus     pctChg isST  \n",
      "0  55697597  1672796799.6500          3  1.245400           1   1.222800    0  \n",
      "1  42374787  1272760165.2800          3  0.947500           1   1.510100    0  \n",
      "2  38794005  1152872630.9600          3  0.867400           1  -1.487600    0  \n",
      "3  31292074   928770692.8600          3  0.699700           1  -0.939600    0  \n",
      "4  29398328   868718073.4700          3  0.657300           1  -0.237100    0  \n"
     ]
    }
   ],
   "source": [
    "# 打印结果集\n",
    "data_list = []\n",
    "while (rs.error_code == '0') & rs.next():\n",
    "    # 获取一条记录，将记录合并在一起\n",
    "    data_list.append(rs.get_row_data())\n",
    "\n",
    "# 转换为DataFrame\n",
    "result = pd.DataFrame(data_list, columns=rs.fields)\n",
    "\n",
    "print(f\"\\n原始数据行数: {len(result)}\")\n",
    "print(\"\\n查看前5行原始数据:\")\n",
    "print(result.head())\n"
   ]
  },
  {
   "cell_type": "code",
   "execution_count": 8,
   "id": "f06b89a2",
   "metadata": {},
   "outputs": [
    {
     "name": "stdout",
     "output_type": "stream",
     "text": [
      "\n",
      "转换前数据行数: 388\n",
      "删除空值后数据行数: 388\n"
     ]
    }
   ],
   "source": [
    "# 数据清洗和类型转换\n",
    "# 先替换空字符串为NaN\n",
    "result = result.replace('', pd.NA)\n",
    "\n",
    "# 转换数据类型，使用 pd.to_numeric 来处理错误\n",
    "result['date'] = pd.to_datetime(result['date'])\n",
    "result['close'] = pd.to_numeric(result['close'], errors='coerce')\n",
    "result['open'] = pd.to_numeric(result['open'], errors='coerce')\n",
    "result['high'] = pd.to_numeric(result['high'], errors='coerce')\n",
    "result['low'] = pd.to_numeric(result['low'], errors='coerce')\n",
    "result['volume'] = pd.to_numeric(result['volume'], errors='coerce')\n",
    "result['amount'] = pd.to_numeric(result['amount'], errors='coerce')\n",
    "result['pctChg'] = pd.to_numeric(result['pctChg'], errors='coerce')\n",
    "result['turn'] = pd.to_numeric(result['turn'], errors='coerce')\n",
    "\n",
    "# 删除包含空值的行（特别是价格数据）\n",
    "print(f\"\\n转换前数据行数: {len(result)}\")\n",
    "result = result.dropna(subset=['date', 'close', 'open', 'high', 'low'])\n",
    "print(f\"删除空值后数据行数: {len(result)}\")\n",
    "\n",
    "# 按日期排序\n",
    "result = result.sort_values('date')\n",
    "result = result.reset_index(drop=True)"
   ]
  },
  {
   "cell_type": "code",
   "execution_count": 9,
   "id": "8b5e01e1",
   "metadata": {},
   "outputs": [
    {
     "name": "stdout",
     "output_type": "stream",
     "text": [
      "\n",
      "数据已保存到: sh.600150.xlsx\n",
      "共 388 条有效记录\n"
     ]
    }
   ],
   "source": [
    "# 保存为Excel文件(可选)\n",
    "output_file = f'{stock_code}.xlsx'\n",
    "result.to_excel(output_file, index=False)\n",
    "print(f\"\\n数据已保存到: {output_file}\")\n",
    "print(f\"共 {len(result)} 条有效记录\")"
   ]
  },
  {
   "cell_type": "code",
   "execution_count": 10,
   "id": "b985198f",
   "metadata": {},
   "outputs": [
    {
     "name": "stdout",
     "output_type": "stream",
     "text": [
      "logout success!\n",
      "\n",
      "登出成功！\n"
     ]
    }
   ],
   "source": [
    "# 登出系统\n",
    "bs.logout()\n",
    "print(\"\\n登出成功！\")"
   ]
  }
 ],
 "metadata": {
  "kernelspec": {
   "display_name": "Python 3",
   "language": "python",
   "name": "python3"
  },
  "language_info": {
   "codemirror_mode": {
    "name": "ipython",
    "version": 3
   },
   "file_extension": ".py",
   "mimetype": "text/x-python",
   "name": "python",
   "nbconvert_exporter": "python",
   "pygments_lexer": "ipython3",
   "version": "3.12.10"
  }
 },
 "nbformat": 4,
 "nbformat_minor": 5
}
